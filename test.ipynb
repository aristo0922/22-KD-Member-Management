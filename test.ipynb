{
 "cells": [
  {
   "cell_type": "code",
   "execution_count": 1,
   "metadata": {},
   "outputs": [],
   "source": [
    "import pandas as pd\n",
    "import numpy as np"
   ]
  },
  {
   "cell_type": "code",
   "execution_count": 12,
   "metadata": {},
   "outputs": [
    {
     "name": "stderr",
     "output_type": "stream",
     "text": [
      "c:\\Users\\Administrator\\AppData\\Local\\Programs\\Python\\Python311\\Lib\\site-packages\\openpyxl\\styles\\stylesheet.py:226: UserWarning: Workbook contains no default style, apply openpyxl's default\n",
      "  warn(\"Workbook contains no default style, apply openpyxl's default\")\n"
     ]
    },
    {
     "data": {
      "text/plain": [
       "[]"
      ]
     },
     "execution_count": 12,
     "metadata": {},
     "output_type": "execute_result"
    }
   ],
   "source": [
    "semi_df = pd.read_excel(r'C:\\Users\\Administrator\\Desktop\\error\\code\\학습이력 정보 반도체.xlsx')\n",
    "semi_drop_df = semi_df.drop(['과목명','훈련기관 PK', '훈련기관과정 PK','훈련기관수업PK','이수 누계(초)','접근IP'], axis=1)\n",
    "semi_drop_df = semi_drop_df.drop(0, axis=0)\n",
    "\n",
    "semi_drop_df.head(5)\n",
    "\n",
    "col = list(semi_check_df.columns[4:6])\n",
    "col"
   ]
  },
  {
   "cell_type": "code",
   "execution_count": null,
   "metadata": {},
   "outputs": [],
   "source": [
    "#0.0분 이수 데이터 삭제\n",
    "semi_drop_df=semi_drop_df[~semi_drop_df['강의 이수기간(분)'].isin([0.0])]\n",
    "\n",
    "# 2단위기간 이전 데이터 삭제\n",
    "target = semi_drop_df['학습기준일'].ge(20221026)\n",
    "semi_drop_df=semi_drop_df[target]\n",
    "\n",
    "semi_drop_df.head(5)\n"
   ]
  },
  {
   "cell_type": "code",
   "execution_count": 4,
   "metadata": {},
   "outputs": [
    {
     "name": "stderr",
     "output_type": "stream",
     "text": [
      "C:\\Users\\Administrator\\AppData\\Local\\Temp\\ipykernel_16956\\4050521607.py:6: FutureWarning: The default value of numeric_only in DataFrameGroupBy.sum is deprecated. In a future version, numeric_only will default to False. Either specify numeric_only or select only columns which should be valid for the function.\n",
      "  semi_check_df = semi_check_df.groupby(['학습기준일', '훈련생 성명']).sum()\n"
     ]
    }
   ],
   "source": [
    "# 단위기간 최종 출결 \n",
    "\n",
    "semi_check_df = semi_drop_df.groupby(['차시구분','훈련생 성명']).max()\n",
    "test_sorted_df = semi_check_df.sort_values(by=['학습기준일','차시구분', '훈련생 성명'])\n",
    "\n",
    "semi_check_df = semi_check_df.groupby(['학습기준일', '훈련생 성명']).sum()\n",
    "semi_check_df = semi_check_df.sort_values(by=['훈련생 성명', '학습기준일'])\n",
    "\n",
    "semi_check_df['이수시간(초)']=(semi_check_df['진도율(%)']*36).round(0)\n",
    "semi_check_df['이수시간(초)'].astype(int)\n",
    "\n",
    "semi_check_df.to_excel(r'C:\\Users\\Administrator\\Desktop\\error\\code\\(result)온라인출석 반도체.xlsx')"
   ]
  },
  {
   "cell_type": "code",
   "execution_count": 20,
   "metadata": {},
   "outputs": [
    {
     "name": "stderr",
     "output_type": "stream",
     "text": [
      "C:\\Users\\Administrator\\AppData\\Local\\Temp\\ipykernel_16956\\1442585200.py:11: FutureWarning: The default value of numeric_only in DataFrameGroupBy.sum is deprecated. In a future version, numeric_only will default to False. Either specify numeric_only or select only columns which should be valid for the function.\n",
      "  semi_perfact_df = semi_perfact_df.groupby(['훈련생 성명','학습기준일', '시작일']).sum()\n"
     ]
    }
   ],
   "source": [
    "# 출결이벤트 대상자 찾기\n",
    "\n",
    "# 학습시작시간에서 점 삭제\n",
    "# semi_drop_df.replace(to_replace=r'[.]',value=\"\", regex=True, inplace=True)\n",
    "\n",
    "# 학습 시작일, 시작시간 구분\n",
    "# target_date=semi_drop_df['학습시작시간'].str.slice(0, 8) \n",
    "# semi_perfact_df=semi_drop_df.insert(4,'시작일', target_date)\n",
    "semi_perfact_df=semi_drop_df\n",
    "\n",
    "semi_perfact_df = semi_perfact_df.groupby(['훈련생 성명', '차시구분']).max()\n",
    "semi_perfact_df = semi_perfact_df.groupby(['훈련생 성명','학습기준일', '시작일']).sum()\n",
    "\n",
    "semi_perfact_df.to_excel(r'C:\\Users\\Administrator\\Desktop\\error\\code\\(result)퍼펙트출석 반도체.xlsx')"
   ]
  },
  {
   "cell_type": "code",
   "execution_count": null,
   "metadata": {},
   "outputs": [],
   "source": [
    "# 동시접속 잡기\n",
    "semi_not_allowed_df = semi_drop_df.drop(['차시구분','학습기준일', '강의 시간(초)'], axis=1)\n",
    "\n",
    "semi_not_allowed_df.head(5)"
   ]
  },
  {
   "cell_type": "code",
   "execution_count": null,
   "metadata": {},
   "outputs": [],
   "source": [
    "semi_check_df.head(5)"
   ]
  },
  {
   "cell_type": "code",
   "execution_count": null,
   "metadata": {},
   "outputs": [],
   "source": [
    "semi_perfact_df.head(5)"
   ]
  }
 ],
 "metadata": {
  "kernelspec": {
   "display_name": "Python 3.11.0 64-bit",
   "language": "python",
   "name": "python3"
  },
  "language_info": {
   "codemirror_mode": {
    "name": "ipython",
    "version": 3
   },
   "file_extension": ".py",
   "mimetype": "text/x-python",
   "name": "python",
   "nbconvert_exporter": "python",
   "pygments_lexer": "ipython3",
   "version": "3.11.0"
  },
  "orig_nbformat": 4,
  "vscode": {
   "interpreter": {
    "hash": "ff4b1fca65a764b45acb559e482afe389d289dd599b9f8c5fd12ff5c2ea46a65"
   }
  }
 },
 "nbformat": 4,
 "nbformat_minor": 2
}
