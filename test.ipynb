{
 "cells": [
  {
   "cell_type": "code",
   "execution_count": 1,
   "metadata": {},
   "outputs": [],
   "source": [
    "import pandas as pd\n",
    "import numpy as np"
   ]
  },
  {
   "cell_type": "markdown",
   "metadata": {},
   "source": []
  },
  {
   "cell_type": "code",
   "execution_count": 17,
   "metadata": {},
   "outputs": [
    {
     "name": "stderr",
     "output_type": "stream",
     "text": [
      "Exception in Tkinter callback\n",
      "Traceback (most recent call last):\n",
      "  File \"c:\\Users\\Administrator\\AppData\\Local\\Programs\\Python\\Python311\\Lib\\tkinter\\__init__.py\", line 1948, in __call__\n",
      "    return self.func(*args)\n",
      "           ^^^^^^^^^^^^^^^^\n",
      "  File \"C:\\Users\\Administrator\\AppData\\Local\\Temp\\ipykernel_5084\\3330365540.py\", line 23, in file_upload\n",
      "    shutil.copy(en_filepath.get(), dest_path)\n",
      "  File \"c:\\Users\\Administrator\\AppData\\Local\\Programs\\Python\\Python311\\Lib\\shutil.py\", line 419, in copy\n",
      "    copyfile(src, dst, follow_symlinks=follow_symlinks)\n",
      "  File \"c:\\Users\\Administrator\\AppData\\Local\\Programs\\Python\\Python311\\Lib\\shutil.py\", line 258, in copyfile\n",
      "    with open(dst, 'wb') as fdst:\n",
      "         ^^^^^^^^^^^^^^^\n",
      "FileNotFoundError: [Errno 2] No such file or directory: 'C:\\\\Users\\\\Administrator\\\\Desktop\\\\result\\\\학습이력 정보 ai.xlsx'\n"
     ]
    }
   ],
   "source": [
    "from tkinter import *\n",
    "from tkinter import filedialog\n",
    "import tkinter.messagebox as mbox\n",
    "import os\n",
    "import shutil\n",
    "\n",
    "\n",
    "\n",
    "excel_ext=r\"*.xlsx *.xks *.csv\"\n",
    "\n",
    "def file_find():\n",
    "    file = filedialog.askopenfilenames(filetypes=((\"Excel file\", excel_ext), (\"all file\", \"*.*\")), initialdir=\"C:\\\\Users\\\\Administrator\\\\Desktops\")\n",
    "    en_filepath.delete(0,END)\n",
    "    en_filepath.insert(END, file[0])\n",
    "\n",
    "def file_upload():\n",
    "    if len(en_filepath.get())==0:\n",
    "        mbox.showinfo(\"Warning\", \"select file, please\")\n",
    "        return\n",
    "    else:\n",
    "        file_name = os.path.basename(en_filepath.get())\n",
    "        dest_path = os.path.join(\"C:\\\\Users\\\\Administrator\\\\Desktop\", file_name)\n",
    "        shutil.copy(en_filepath.get(), dest_path)\n",
    "        en_filepath.delete(0, END)\n",
    "        return\n",
    "\n",
    "\n",
    "root = Tk()\n",
    "\n",
    "root.title(\"출결 데이터 정제 프로그램\")\n",
    "root.geometry(\"500x200+200+200\")\n",
    "root.resizable(True, True)\n",
    "\n",
    "en_filepath = Entry(root, width=100)\n",
    "en_filepath.pack(fill=\"x\", padx=1, pady=1)\n",
    "\n",
    "label = Label(root, text='Hello World')\n",
    "label.pack()\n",
    "\n",
    "btn_find = Button(root, text=\"find\", width=10, command=file_find)\n",
    "btn_find.pack(side=\"right\", padx=1, pady=1)\n",
    "btn_upload = Button(root, text=\"upload\", width=10, command=file_upload)\n",
    "btn_upload.pack(side=\"right\", padx=1, pady=1)\n",
    "\n",
    "\n",
    "\n",
    "\n",
    "root.mainloop()"
   ]
  },
  {
   "cell_type": "code",
   "execution_count": 2,
   "metadata": {},
   "outputs": [
    {
     "name": "stdout",
     "output_type": "stream",
     "text": [
      "  훈련생 성명      훈련기관회원 PK       차시구분          학습기준일        start   start time  \\\n",
      "0    NaN  USER_AGENT_PK  EVAL_TYPE  SUBMIT_DUE_DT          NaN          NaN   \n",
      "1    전용석     2016212039    파이썬_1차시       20220926  2022.11.20    오후 1:51:44   \n",
      "2    하준한     2020212041    파이썬_1차시       20220926  2022.11.20    오후 4:35:34   \n",
      "\n",
      "                  학습시작시간                 학습종료시간  강의 이수기간(분)    강의 시간(초) 진도율(%)  \n",
      "0      SUBMIT_DATE_START            SUBMIT_DATE         NaN  STUDY_TIME  SCORE  \n",
      "1  2022.11.20 오후 1:51:44  2022.11.20 오후 2:17:32        25.0        3600    100  \n",
      "2  2022.11.20 오후 4:35:34  2022.11.20 오후 4:43:12         7.0        1099  30.53  \n",
      "  훈련생 성명      훈련기관회원 PK       차시구분          학습기준일        start   start time  \\\n",
      "0    NaN  USER_AGENT_PK  EVAL_TYPE  SUBMIT_DUE_DT          NaN          NaN   \n",
      "1    정욱현   wjddnrgus908    파이썬_6차시       20220926  2022.10.26    오후 6:25:00   \n",
      "2    신경호     2018148018  클라이언트_1차시       20220930  2022.11.08   오후 11:42:03   \n",
      "\n",
      "                   학습시작시간                  학습종료시간  강의 이수기간(분)    강의 시간(초)  \\\n",
      "0       SUBMIT_DATE_START             SUBMIT_DATE         NaN  STUDY_TIME   \n",
      "1   2022.10.26 오후 6:25:00   2022.10.26 오후 6:25:06         0.0          14   \n",
      "2  2022.11.08 오후 11:42:03  2022.11.08 오후 11:42:07         0.0           9   \n",
      "\n",
      "  진도율(%)  \n",
      "0  SCORE  \n",
      "1   0.39  \n",
      "2   0.25  \n",
      "  훈련생 성명      훈련기관회원 PK       차시구분          학습기준일       start    start time  \\\n",
      "0    NaN  USER_AGENT_PK  EVAL_TYPE  SUBMIT_DUE_DT          NaN          NaN   \n",
      "1    이승우     2020114028    파이썬_1차시       20220926  2022.10.26    오후 4:15:21   \n",
      "2    김민지     2020160007    파이썬_1차시       20220926  2022.10.27    오후 9:22:33   \n",
      "\n",
      "                  학습시작시간                 학습종료시간  강의 이수기간(분)    강의 시간(초) 진도율(%)  \n",
      "0      SUBMIT_DATE_START            SUBMIT_DATE         NaN  STUDY_TIME  SCORE  \n",
      "1  2022.10.26 오후 4:15:21  2022.10.26 오후 4:15:24         0.0           7   0.19  \n",
      "2  2022.10.27 오후 9:22:33  2022.10.27 오후 9:22:33         0.0           0      0  \n"
     ]
    }
   ],
   "source": [
    "ai_df = pd.read_excel(r'C:\\Users\\Administrator\\Desktop\\error\\code\\학습이력 정보 AI.xlsx')\n",
    "ai_drop_df = ai_df.drop(['과목명','훈련기관 PK', '훈련기관과정 PK','훈련기관수업PK','이수 누계(초)','접근IP'], axis=1)\n",
    "print(ai_drop_df.head(3))\n",
    "ai_drop_df = ai_drop_df.drop(0, axis=0)\n",
    "\n",
    "iot_df = pd.read_excel(r'C:\\Users\\Administrator\\Desktop\\error\\code\\학습이력 정보 iot.xlsx')\n",
    "iot_drop_df = iot_df.drop(['과목명','훈련기관 PK', '훈련기관과정 PK','훈련기관수업PK','이수 누계(초)','접근IP'], axis=1)\n",
    "print(iot_drop_df.head(3))\n",
    "iot_drop_df = iot_drop_df.drop(0, axis=0)\n",
    "\n",
    "semi_df = pd.read_excel(r'C:\\Users\\Administrator\\Desktop\\error\\code\\학습이력 정보 반도체.xlsx')\n",
    "semi_drop_df = semi_df.drop(['과목명','훈련기관 PK', '훈련기관과정 PK','훈련기관수업PK','이수 누계(초)','접근IP'], axis=1)\n",
    "print(semi_drop_df.head(3))\n",
    "semi_drop_df = semi_drop_df.drop(0, axis=0)"
   ]
  },
  {
   "cell_type": "code",
   "execution_count": 3,
   "metadata": {},
   "outputs": [],
   "source": [
    "#0.0분 이수 데이터 삭제\n",
    "ai_df=ai_drop_df[~ai_drop_df['강의 이수기간(분)'].isin([0.0])]\n",
    "iot_df=iot_drop_df[~iot_drop_df['강의 이수기간(분)'].isin([0.0])]\n",
    "semi_drop_df=semi_drop_df[~semi_drop_df['강의 이수기간(분)'].isin([0.0])]\n",
    "\n",
    "# 2단위기간 이전 데이터 삭제\n",
    "target_ai = ai_drop_df['학습기준일'].ge(20221026)\n",
    "ai_drop_df=ai_drop_df[target_ai]\n",
    "\n",
    "target_iot = iot_drop_df['학습기준일'].ge(20221026)\n",
    "iot_drop_df=iot_drop_df[target_iot]\n",
    "\n",
    "target = semi_drop_df['학습기준일'].ge(20221026)\n",
    "semi_drop_df=semi_drop_df[target]"
   ]
  },
  {
   "cell_type": "code",
   "execution_count": 4,
   "metadata": {},
   "outputs": [
    {
     "name": "stderr",
     "output_type": "stream",
     "text": [
      "C:\\Users\\Administrator\\AppData\\Local\\Temp\\ipykernel_16900\\3545598632.py:4: FutureWarning: The default value of numeric_only in DataFrameGroupBy.sum is deprecated. In a future version, numeric_only will default to False. Either specify numeric_only or select only columns which should be valid for the function.\n",
      "  ai_check_df = ai_check_df.groupby(['학습기준일', '훈련생 성명']).sum()\n"
     ]
    }
   ],
   "source": [
    "# 단위기간 최종 출결 \n",
    "ai_check_df = ai_drop_df.groupby(['차시구분','훈련생 성명']).max()\n",
    "\n",
    "ai_check_df = ai_check_df.groupby(['학습기준일', '훈련생 성명']).sum()\n",
    "ai_check_df = ai_check_df.sort_values(by=['훈련생 성명', '학습기준일'])\n",
    "\n",
    "ai_check_df['이수시간(초)']=(ai_check_df['진도율(%)']*36).round(0)\n",
    "ai_check_df['이수시간(초)'].astype(int)\n",
    "\n",
    "ai_check_df.to_excel(r'C:\\Users\\Administrator\\Desktop\\error\\code\\(result)온라인출석 AI.xlsx')"
   ]
  },
  {
   "cell_type": "code",
   "execution_count": 5,
   "metadata": {},
   "outputs": [
    {
     "name": "stderr",
     "output_type": "stream",
     "text": [
      "C:\\Users\\Administrator\\AppData\\Local\\Temp\\ipykernel_16900\\1160088811.py:4: FutureWarning: The default value of numeric_only in DataFrameGroupBy.sum is deprecated. In a future version, numeric_only will default to False. Either specify numeric_only or select only columns which should be valid for the function.\n",
      "  iot_check_df = iot_check_df.groupby(['학습기준일', '훈련생 성명']).sum()\n"
     ]
    }
   ],
   "source": [
    "# 단위기간 최종 출결 \n",
    "iot_check_df = iot_drop_df.groupby(['차시구분','훈련생 성명']).max()\n",
    "\n",
    "iot_check_df = iot_check_df.groupby(['학습기준일', '훈련생 성명']).sum()\n",
    "iot_check_df = iot_check_df.sort_values(by=['훈련생 성명', '학습기준일'])\n",
    "\n",
    "iot_check_df['이수시간(초)']=(iot_check_df['진도율(%)']*36).round(0)\n",
    "iot_check_df['이수시간(초)'].astype(int)\n",
    "\n",
    "iot_check_df.to_excel(r'C:\\Users\\Administrator\\Desktop\\error\\code\\(result)온라인출석 iot.xlsx')"
   ]
  },
  {
   "cell_type": "code",
   "execution_count": 6,
   "metadata": {},
   "outputs": [
    {
     "name": "stderr",
     "output_type": "stream",
     "text": [
      "C:\\Users\\Administrator\\AppData\\Local\\Temp\\ipykernel_16900\\2800209538.py:4: FutureWarning: The default value of numeric_only in DataFrameGroupBy.sum is deprecated. In a future version, numeric_only will default to False. Either specify numeric_only or select only columns which should be valid for the function.\n",
      "  semi_check_df = semi_check_df.groupby(['학습기준일', '훈련생 성명']).sum()\n"
     ]
    }
   ],
   "source": [
    "# 단위기간 최종 출결 \n",
    "semi_check_df = semi_drop_df.groupby(['차시구분','훈련생 성명']).max()\n",
    "\n",
    "semi_check_df = semi_check_df.groupby(['학습기준일', '훈련생 성명']).sum()\n",
    "semi_check_df = semi_check_df.sort_values(by=['훈련생 성명', '학습기준일'])\n",
    "\n",
    "semi_check_df['이수시간(초)']=(semi_check_df['진도율(%)']*36).round(0)\n",
    "semi_check_df['이수시간(초)'].astype(int)\n",
    "\n",
    "semi_check_df.to_excel(r'C:\\Users\\Administrator\\Desktop\\error\\code\\(result)온라인출석 반도체.xlsx')"
   ]
  },
  {
   "cell_type": "code",
   "execution_count": 7,
   "metadata": {},
   "outputs": [
    {
     "name": "stderr",
     "output_type": "stream",
     "text": [
      "C:\\Users\\Administrator\\AppData\\Local\\Temp\\ipykernel_16900\\2855906606.py:12: FutureWarning: The default value of numeric_only in DataFrameGroupBy.sum is deprecated. In a future version, numeric_only will default to False. Either specify numeric_only or select only columns which should be valid for the function.\n",
      "  ai_perfact_df = ai_perfact_df.groupby(['훈련생 성명','학습기준일', '시작일']).sum()\n"
     ]
    }
   ],
   "source": [
    "# 출결이벤트 대상자 찾기\n",
    "\n",
    "# 학습시작시간에서 점 삭제\n",
    "ai_drop_df.replace(to_replace=r'[.]',value=\"\", regex=True, inplace=True)\n",
    "\n",
    "# 학습 시작일, 시작시간 구분\n",
    "target_date_ai=ai_drop_df['학습시작시간'].str.slice(0, 8) \n",
    "ai_drop_df.insert(4,'시작일', target_date_ai)\n",
    "ai_perfact_df=ai_drop_df\n",
    "\n",
    "ai_perfact_df = ai_perfact_df.groupby(['훈련생 성명', '차시구분']).max()\n",
    "ai_perfact_df = ai_perfact_df.groupby(['훈련생 성명','학습기준일', '시작일']).sum()\n",
    "\n",
    "ai_perfact_df.to_excel(r'C:\\Users\\Administrator\\Desktop\\error\\code\\(result)퍼펙트출석 ai.xlsx')"
   ]
  },
  {
   "cell_type": "code",
   "execution_count": 8,
   "metadata": {},
   "outputs": [
    {
     "name": "stderr",
     "output_type": "stream",
     "text": [
      "C:\\Users\\Administrator\\AppData\\Local\\Temp\\ipykernel_16900\\3601121957.py:12: FutureWarning: The default value of numeric_only in DataFrameGroupBy.sum is deprecated. In a future version, numeric_only will default to False. Either specify numeric_only or select only columns which should be valid for the function.\n",
      "  iot_perfact_df = iot_perfact_df.groupby(['훈련생 성명','학습기준일', '시작일']).sum()\n"
     ]
    }
   ],
   "source": [
    "# 출결이벤트 대상자 찾기\n",
    "\n",
    "# 학습시작시간에서 점 삭제\n",
    "iot_drop_df.replace(to_replace=r'[.]',value=\"\", regex=True, inplace=True)\n",
    "\n",
    "# 학습 시작일, 시작시간 구분\n",
    "target_date_iot=iot_drop_df['학습시작시간'].str.slice(0, 8) \n",
    "iot_drop_df.insert(4,'시작일', target_date_iot)\n",
    "iot_perfact_df=iot_drop_df\n",
    "\n",
    "iot_perfact_df = iot_perfact_df.groupby(['훈련생 성명', '차시구분']).max()\n",
    "iot_perfact_df = iot_perfact_df.groupby(['훈련생 성명','학습기준일', '시작일']).sum()\n",
    "\n",
    "iot_perfact_df.to_excel(r'C:\\Users\\Administrator\\Desktop\\error\\code\\(result)퍼펙트출석 iot.xlsx')"
   ]
  },
  {
   "cell_type": "code",
   "execution_count": 9,
   "metadata": {},
   "outputs": [
    {
     "name": "stderr",
     "output_type": "stream",
     "text": [
      "C:\\Users\\Administrator\\AppData\\Local\\Temp\\ipykernel_16900\\3713269251.py:12: FutureWarning: The default value of numeric_only in DataFrameGroupBy.sum is deprecated. In a future version, numeric_only will default to False. Either specify numeric_only or select only columns which should be valid for the function.\n",
      "  semi_perfact_df = semi_perfact_df.groupby(['훈련생 성명','학습기준일', '시작일']).sum()\n"
     ]
    }
   ],
   "source": [
    "# 출결이벤트 대상자 찾기\n",
    "\n",
    "# 학습시작시간에서 점 삭제\n",
    "semi_drop_df.replace(to_replace=r'[.]',value=\"\", regex=True, inplace=True)\n",
    "\n",
    "# 학습 시작일, 시작시간 구분\n",
    "target_date_semi=semi_drop_df['학습시작시간'].str.slice(0, 8) \n",
    "semi_drop_df.insert(4,'시작일', target_date_semi)\n",
    "semi_perfact_df=semi_drop_df\n",
    "\n",
    "semi_perfact_df = semi_perfact_df.groupby(['훈련생 성명', '차시구분']).max()\n",
    "semi_perfact_df = semi_perfact_df.groupby(['훈련생 성명','학습기준일', '시작일']).sum()\n",
    "\n",
    "semi_perfact_df.to_excel(r'C:\\Users\\Administrator\\Desktop\\error\\code\\(result)퍼펙트출석 반도체.xlsx')"
   ]
  }
 ],
 "metadata": {
  "kernelspec": {
   "display_name": "Python 3.11.0 64-bit",
   "language": "python",
   "name": "python3"
  },
  "language_info": {
   "codemirror_mode": {
    "name": "ipython",
    "version": 3
   },
   "file_extension": ".py",
   "mimetype": "text/x-python",
   "name": "python",
   "nbconvert_exporter": "python",
   "pygments_lexer": "ipython3",
   "version": "3.11.0"
  },
  "orig_nbformat": 4,
  "vscode": {
   "interpreter": {
    "hash": "ff4b1fca65a764b45acb559e482afe389d289dd599b9f8c5fd12ff5c2ea46a65"
   }
  }
 },
 "nbformat": 4,
 "nbformat_minor": 2
}
